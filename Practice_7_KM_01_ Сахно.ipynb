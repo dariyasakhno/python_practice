{
  "nbformat": 4,
  "nbformat_minor": 0,
  "metadata": {
    "colab": {
      "name": "Practice_7_KM-01_.ipynb",
      "provenance": [],
      "collapsed_sections": []
    },
    "kernelspec": {
      "name": "Python 3.8.5 32-bit",
      "display_name": "Python 3.8.5 32-bit",
      "metadata": {
        "interpreter": {
          "hash": "72f11b06545a9056071f549936a38f3a52fdcf6441d0437879b7ddead5736301"
        }
      }
    }
  },
  "cells": [
    {
      "cell_type": "markdown",
      "metadata": {
        "id": "FMqboNwO4rVs"
      },
      "source": [
        "# **Курс \"Програмування на мові Python\"**\n",
        "\n",
        "##### Викладачі:\n",
        "##### Борисенко Павло Борисович\n",
        "##### Щьоголєв Максим Олегович\n"
      ]
    },
    {
      "cell_type": "markdown",
      "metadata": {
        "id": "A2T6MigL5Z06"
      },
      "source": [
        "## **Практичне зайняття №7**\n",
        "\n",
        "### Тема: \"Перевірка даних. Робота з виключеннями. Регулярні вирази\""
      ]
    },
    {
      "cell_type": "markdown",
      "metadata": {
        "id": "cfCdgK2zXm7e"
      },
      "source": [
        "### **Завдання 1 (1,5 бали)**\n",
        "\n",
        "Переробити завдання №1 практичної роботи №6 з використанням регулярних виразів.\n",
        "\n",
        "1. Створити шаблон регулярного виразу.\n",
        "\n",
        "2. За допомогою функції compile() створити об'єкт регулярного виразу.\n",
        "\n",
        "3. Всі інші вимоги залишаються такими ж, як і в оригінальному завданні."
      ]
    },
    {
      "cell_type": "code",
      "metadata": {
        "id": "ifNX2M7LXm7f"
      },
      "source": [
        "import re \n",
        "pose_estimation = \"[BodyPart:0-(0.55, 0.17) score=0.81 BodyPart:1-(0.49, 0.27) score=0.85 BodyPart:2-(0.41, 0.26) score=0.67 BodyPart:3-(0.33, 0.37) score=0.72 BodyPart:4-(0.36, 0.48) score=0.78 BodyPart:5-(0.58, 0.27) score=0.81 BodyPart:6-(0.65, 0.38) score=0.88 BodyPart:7-(0.62, 0.48) score=0.86 BodyPart:8-(0.43, 0.48) score=0.60 BodyPart:9-(0.43, 0.66) score=0.67 BodyPart:10-(0.53, 0.79) score=0.56 BodyPart:11-(0.53, 0.48) score=0.56 BodyPart:12-(0.59, 0.66) score=0.75 BodyPart:13-(0.49, 0.80) score=0.50 BodyPart:14-(0.54, 0.15) score=0.73 BodyPart:15-(0.56, 0.15) score=0.85 BodyPart:16-(0.48, 0.16) score=0.81 BodyPart:17-(0.83, 0.18) score=0.79]\"\n",
        "new_pattern = '\\d\\.\\d{2}\\,\\s*\\d\\.\\d{2}'\n",
        "pattern = '\\=\\d\\.\\d{2}'\n",
        "points = []\n",
        "\n",
        "regexp_new = re.compile(new_pattern)\n",
        "regexp = re.compile(pattern)\n",
        "\n",
        "lst = re.findall(regexp_new, pose_estimation)\n",
        "scores = re.findall(regexp, pose_estimation)\n",
        "\n",
        "for x in lst:\n",
        "    first,second = map(float, x.split(','))\n",
        "    points.append(first)\n",
        "    points.append(second)\n",
        "\n",
        "scores = [float(x[1:]) for x in scores]\n",
        "\n",
        "print('points = [' + ','.join(map(str, points)) + ']')\n",
        "print('scores = [' + ','.join(map(str, scores)) + ']')"
      ],
      "execution_count": 1,
      "outputs": [
        {
          "output_type": "stream",
          "name": "stdout",
          "text": [
            "points = [0.55,0.17,0.49,0.27,0.41,0.26,0.33,0.37,0.36,0.48,0.58,0.27,0.65,0.38,0.62,0.48,0.43,0.48,0.43,0.66,0.53,0.79,0.53,0.48,0.59,0.66,0.49,0.8,0.54,0.15,0.56,0.15,0.48,0.16,0.83,0.18]\nscores = [0.81,0.85,0.67,0.72,0.78,0.81,0.88,0.86,0.6,0.67,0.56,0.56,0.75,0.5,0.73,0.85,0.81,0.79]\n"
          ]
        }
      ]
    },
    {
      "cell_type": "markdown",
      "metadata": {
        "id": "M1Sg0vXJXm7n"
      },
      "source": [
        "### **Завдання 2 (1,5 бали)**\n",
        "\n",
        "Написати програму підрахунку коренів квадратного рівняння без попередніх перевірок.\n",
        "\n",
        "1. Користувач має вводити коефіцієнти a, b та c з клавіатури.\n",
        "\n",
        "2. Програма має обробляти помилки ділення на 0, кореня від'ємного числа та інші, а також виводити відповідні повідомлення у разі виникнення таких помилок.\n",
        "\n",
        "3. Якщо рівняння не має коренів, программа має генерувати помилку за допомогою ключового слова raise, а потім обробляти її.\n",
        "\n",
        "4. Правильно написана програма при виникненні різних помилок має виводити текст помилки, а також різні повідомлення про те, в чому суть цих помилок. Необроблених помилок бути не повинно."
      ]
    },
    {
      "cell_type": "code",
      "metadata": {
        "id": "co7fcAuvXm7o"
      },
      "source": [
        "import math\n",
        "try:\n",
        "    a, b, c = map(int, input().split())\n",
        "    d = b**2 - 4*a*c\n",
        "    if d < 0:\n",
        "        raise Exception('No roots')\n",
        "    elif d == 0:\n",
        "         print('One root:', round(-b/(2*a)))\n",
        "    else:\n",
        "         k1 = round((-b + math.sqrt(d))/(2*a))\n",
        "         k2 = round((-b - math.sqrt(d))/(2*a))\n",
        "         print('Two roots:', k1, k2)\n",
        "except ValueError:\n",
        "    print('Incorrect input data')\n",
        "except Exception as ve:\n",
        "    print(ve)"
      ],
      "execution_count": 8,
      "outputs": [
        {
          "output_type": "stream",
          "name": "stdout",
          "text": [
            "No roots\n"
          ]
        }
      ]
    }
  ]
}