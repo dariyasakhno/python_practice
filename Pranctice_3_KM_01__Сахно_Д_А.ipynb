{
  "nbformat": 4,
  "nbformat_minor": 0,
  "metadata": {
    "colab": {
      "name": "Pranctice_3_KM-01_<name>.ipynb",
      "provenance": [],
      "collapsed_sections": []
    },
    "kernelspec": {
      "name": "python3",
      "display_name": "Python 3"
    }
  },
  "cells": [
    {
      "cell_type": "markdown",
      "metadata": {
        "id": "1bRxWHr5e8kt"
      },
      "source": [
        "# **Курс \"Програмування на мові Python\"**\n",
        "\n",
        "##### Викладачі:\n",
        "##### Борисенко Павло Борисович\n",
        "##### Щьоголєв Максим Олегович\n",
        "\n",
        "## **Практичне зайняття №3**\n",
        "\n",
        "### Тема: \"Перші програми на Python. Введення та виведення даних\""
      ]
    },
    {
      "cell_type": "markdown",
      "metadata": {
        "id": "M7jjwxAvfKa2"
      },
      "source": [
        "### **Завдання 1 (1,5 бали)**\n",
        "\n",
        "**Написати програму введення та виведення даних про одержувача листа (посилки) за стандартами Укрпошти.**\n",
        "\n",
        "1. Усі запити на введення даних повинні супроводжуватись відповідними підказками-поясненнями (бажано англійською мовою).\n",
        "\n",
        "2. Дані мають виводитись так, як показано нижче (з урахуванням кількості рядків та послідовності даних у кожному з них).\n",
        "\n",
        "3. Дані, виділені жирним шрифтом, повинні вводитись із клавіатури. Всього має бути 9 окремих команд введення даних\n",
        "\n",
        "4. Назви змінних повинні бути інформативними та оформленими відповідно до правил іменування змінних\n",
        "\n",
        "5. Додати 2 коментарі, що вказують на блоки введення та виведення даних.\n",
        "\n",
        "***Формат виведення даних:***\n",
        "\n",
        "(1) **Lucas** (2) **Diallo**\n",
        "\n",
        "(3) **+3221234567**\n",
        "\n",
        "Rue (4) **Longue** (5) **3**, ap. (6) **5**, (7) **Bruxelles**\n",
        "\n",
        "(8) **1020**\n",
        "\n",
        "(9) **Belgium**"
      ]
    },
    {
      "cell_type": "code",
      "metadata": {
        "id": "hEJG5C3_fJk9",
        "tags": []
      },
      "source": [
        "# input data\n",
        "name = input('Enter your name: ')\n",
        "surname = input('Enter your surname: ')\n",
        "while True:\n",
        "    phone = input('Enter your phone(should start with + (only numbers)) : ').strip()\n",
        "    if phone[0] == '+' and phone[1:].isnumeric() == True:\n",
        "        break\n",
        "street = input('Enter your street: ')\n",
        "house = input('Enter your house number: ')\n",
        "apparts = input('Enter your appartments: ')\n",
        "city = input('Enter your city: ')\n",
        "while True:\n",
        "    postal_code = input('Enter your postal code: ').strip()\n",
        "    if postal_code.isnumeric() == True:\n",
        "        break\n",
        "while True:\n",
        "    country = input('Enter your country: ').strip()\n",
        "    if country.isalpha() == True:\n",
        "        break\n",
        "# output data\n",
        "print(f'(1) {name} (2) {surname}')\n",
        "print(f'(3) {phone}')\n",
        "print(f' Rue (4) {street} (5) {house}, ap. (6) {apparts}, (7) {city}')\n",
        "print(f'(8) {postal_code}')\n",
        "print(f'(9) {country}')\n"
      ],
      "execution_count": 4,
      "outputs": []
    },
    {
      "cell_type": "markdown",
      "metadata": {
        "id": "4n4p_pz7gFKM"
      },
      "source": [
        "### **Завдання 2 (1,5 бали)**\n",
        "\n",
        "Таблиця містить магнітуду землетрусів за шкалою Ріхтера та дескриптори, що їй відповідають.\n",
        "\n",
        "Магнітуда | Дескриптор\n",
        "--- | ---\n",
        "Менше, ніж 2 | Micro\n",
        "Від 2 до менше ніж 3 | Very minor\n",
        "Від 3 до менше ніж 4 | Minor\n",
        "Від 4 до менше ніж 5 | Light\n",
        "Від 5 до менше ніж 6 | Moderate\n",
        "Від 6 до менше ніж 7 | Strong\n",
        "Від 7 до менше ніж 8 | Major\n",
        "Від 8 до менше ніж 10 | Great\n",
        "10 та більше | Meteoric\n",
        "\n",
        "Напишіть програму, яка буде зчитувати магнітуду, введену користувачем, та виводити відповідний дескриптор як частину змістовного повідомлення. Наприклад, якщо користувач вводить 5.5, ваша програма повинна показати, що землетрус з такою магнітудою є помірним (moderate)."
      ]
    },
    {
      "cell_type": "code",
      "metadata": {
        "id": "Nv66Jkkpf-sI"
      },
      "source": [
        "amplitude = float(input('Enter the amplitude: '))\n",
        "if amplitude < 2:\n",
        "    message = 'Micro'\n",
        "elif 2 <= amplitude < 3:\n",
        "    message = 'Very minor'\n",
        "elif 3 <= amplitude < 4:\n",
        "    message = 'Minor'\n",
        "elif 4 <= amplitude < 5:\n",
        "    message = 'Light'\n",
        "elif 5 <= amplitude < 6:\n",
        "    message = 'Moderate'\n",
        "elif 6 <= amplitude < 7:\n",
        "    message = 'Strong'\n",
        "elif 7 <= amplitude < 8:\n",
        "    message = 'Major'\n",
        "elif 8 <= amplitude < 10:\n",
        "    message = 'Great'\n",
        "else:\n",
        "    message = 'Meteoric'\n",
        "print('An earthquake with amplitude:', amplitude,'is',message + '.')"
      ],
      "execution_count": 5,
      "outputs": []
    },
    {
      "cell_type": "markdown",
      "metadata": {
        "id": "b593txPwotgN"
      },
      "source": [
        "### **Завдання 3 (бонусне, 1 бал)**\n",
        "\n",
        "Часто говорять, що один календарний рік еквівалентний 7 рокам для собаки. Однак таке просте перетворення не враховує того, що собаки досягають \"повноліття\" приблизно у 2 роки. Тому деякі люди вважать, що краще рахувати кожен з перших двох календарних років як 10,5 років для собаки, а потім рахувати кожен наступний календарний рік як 4 роки для собаки.\n",
        "\n",
        "Напишіть програму, яка конвертує календарні роки у \"собачі\", як було показано в попередньому абзаці. Переконайтесь, що ваша програма працює правильно, конвертуючи перші два календарні роки та всі подальші. Ваша програма також повинна виводити повідомлення про помилку, якщо користувач введе від'ємне число."
      ]
    },
    {
      "cell_type": "code",
      "metadata": {
        "id": "PA_E_H0Zosu0"
      },
      "source": [
        "while True:\n",
        "    years = int(input('Enter the number of years ( >= 0 ): '))\n",
        "    if years >= 0:\n",
        "        break\n",
        "if years == 0:\n",
        "    print(0)\n",
        "elif years == 1:\n",
        "    print(10.5)\n",
        "elif years == 2:\n",
        "    print(21) \n",
        "else:\n",
        "    print((years - 2) * 4 + 21)"
      ],
      "execution_count": 6,
      "outputs": []
    }
  ]
}